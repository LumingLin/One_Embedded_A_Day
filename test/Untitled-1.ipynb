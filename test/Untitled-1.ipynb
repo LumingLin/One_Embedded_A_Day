{
 "cells": [
  {
   "cell_type": "code",
   "execution_count": 1,
   "metadata": {},
   "outputs": [
    {
     "name": "stdout",
     "output_type": "stream",
     "text": [
      "2.5\n"
     ]
    }
   ],
   "source": [
    "print(5 / 2)"
   ]
  },
  {
   "cell_type": "code",
   "execution_count": 6,
   "metadata": {},
   "outputs": [
    {
     "name": "stdout",
     "output_type": "stream",
     "text": [
      "[1, 2, 3]\n"
     ]
    }
   ],
   "source": [
    "arr = [1,2,3]\n",
    "arr.append(4)\n",
    "arr.pop()\n",
    "print(arr)"
   ]
  },
  {
   "cell_type": "code",
   "execution_count": 12,
   "metadata": {},
   "outputs": [
    {
     "name": "stdout",
     "output_type": "stream",
     "text": [
      "[2, 3]\n",
      "1 2\n",
      "2 3\n"
     ]
    }
   ],
   "source": [
    "a = arr[1:3] #just like a for loop\n",
    "print(a) \n",
    "\n",
    "c = zip(arr, a)\n",
    "for n1, n2 in c:\n",
    "    print(n1, n2)\n"
   ]
  },
  {
   "cell_type": "code",
   "execution_count": 15,
   "metadata": {},
   "outputs": [
    {
     "name": "stdout",
     "output_type": "stream",
     "text": [
      "['allic', 'bob', 'jane']\n",
      "['bob', 'jane', 'allic']\n"
     ]
    }
   ],
   "source": [
    "arr = ['bob', 'allic', 'jane']\n",
    "\n",
    "arr.sort()\n",
    "print(arr)\n",
    "\n",
    "arr.sort(key=lambda x: len(x))\n",
    "print(arr)"
   ]
  },
  {
   "cell_type": "code",
   "execution_count": 16,
   "metadata": {},
   "outputs": [
    {
     "name": "stdout",
     "output_type": "stream",
     "text": [
      "[0, 2, 4, 6, 8]\n"
     ]
    }
   ],
   "source": [
    "arr = [i*2 for i in range(5)]\n",
    "print(arr)"
   ]
  },
  {
   "cell_type": "code",
   "execution_count": 20,
   "metadata": {},
   "outputs": [
    {
     "name": "stdout",
     "output_type": "stream",
     "text": [
      "[0, 0, 0, 0]\n",
      "[[0, 0, 0, 0], [0, 0, 0, 0], [0, 0, 0, 0], [0, 0, 0, 0]]\n"
     ]
    }
   ],
   "source": [
    "arr = [0] * 4\n",
    "arr2d = [[0] * 4 for i in range(4)]\n",
    "print(arr)\n",
    "print(arr2d)\n",
    "# cannot do\n",
    "arr2d_wrong = [[0] * 4] * 4"
   ]
  },
  {
   "cell_type": "code",
   "execution_count": 21,
   "metadata": {},
   "outputs": [
    {
     "name": "stdout",
     "output_type": "stream",
     "text": [
      "ab\n",
      "97\n"
     ]
    }
   ],
   "source": [
    "s = \"abc\"\n",
    "\n",
    "print(s[0:2])\n",
    "s += \"def\" #create a new string cuz string is immutable\n",
    "d = int(\"123\")\n",
    "e = str(123)\n",
    "print(ord(\"a\")) #get ascii value"
   ]
  },
  {
   "cell_type": "code",
   "execution_count": 23,
   "metadata": {},
   "outputs": [
    {
     "name": "stdout",
     "output_type": "stream",
     "text": [
      "abhahacdhahaed\n",
      "abcded\n"
     ]
    }
   ],
   "source": [
    "strings = [\"ab\", \"cd\", \"ed\"]\n",
    "print(\"haha\".join(strings))\n",
    "print(\"\".join(strings))\n"
   ]
  },
  {
   "cell_type": "code",
   "execution_count": 29,
   "metadata": {},
   "outputs": [
    {
     "name": "stdout",
     "output_type": "stream",
     "text": [
      "deque([1, 2])\n",
      "deque([2])\n",
      "deque([1])\n"
     ]
    }
   ],
   "source": [
    "from collections import deque\n",
    "\n",
    "dq = deque()\n",
    "dq.append(1)\n",
    "dq.append(2)\n",
    "\n",
    "print(dq)\n",
    "dq.popleft()\n",
    "print(dq)\n",
    "\n",
    "\n",
    "dq.appendleft(1)\n",
    "dq.pop() #没有popright\n",
    "print(dq)"
   ]
  },
  {
   "cell_type": "code",
   "execution_count": 32,
   "metadata": {},
   "outputs": [
    {
     "name": "stdout",
     "output_type": "stream",
     "text": [
      "{1, 2}\n",
      "2\n",
      "True\n",
      "False\n",
      "{1, 2, 3, 4, 5}\n",
      "{0, 1, 2, 3, 4}\n"
     ]
    }
   ],
   "source": [
    "#very useful for searching\n",
    "s = set()\n",
    "s.add(1)\n",
    "s.add(2)\n",
    "s.add(2) #useless\n",
    "print(s)\n",
    "print(len(s))\n",
    "\n",
    "print(1 in s) #constant time search\n",
    "\n",
    "s.remove(2) #constant time remove\n",
    "print(2 in s)\n",
    "\n",
    "s2 = set([1,2,3,4,5])\n",
    "s3 = {i for i in range(5)}\n",
    "print(s2)\n",
    "print(s3)\n"
   ]
  },
  {
   "cell_type": "code",
   "execution_count": 34,
   "metadata": {},
   "outputs": [
    {
     "name": "stdout",
     "output_type": "stream",
     "text": [
      "3\n"
     ]
    }
   ],
   "source": [
    "tup = (1,2)\n",
    "#immutable\n",
    "\n",
    "myMap = {tup: 3}\n",
    "print(myMap[(1,2)]) #list is not hashable, so only tuple can be key\n",
    "\n",
    "\n"
   ]
  },
  {
   "cell_type": "code",
   "execution_count": 50,
   "metadata": {},
   "outputs": [
    {
     "name": "stdout",
     "output_type": "stream",
     "text": [
      "2\n",
      "2\n",
      "3\n",
      "5\n",
      "ARR_TO_HEAP!!!!\n",
      "1\n",
      "2\n",
      "4\n",
      "5\n",
      "8\n",
      "maxHEAP!!!\n",
      "[-4, -3, -1, 0, -2]\n",
      "4\n",
      "3\n",
      "2\n",
      "1\n",
      "0\n"
     ]
    }
   ],
   "source": [
    "import heapq\n",
    "minHeap = []\n",
    "\n",
    "heapq.heappush(minHeap, 3) #push 3 to heap\n",
    "heapq.heappush(minHeap, 2) #push 3 to heap\n",
    "heapq.heappush(minHeap, 5) #push 3 to heap\n",
    "\n",
    "\n",
    "print(minHeap[0]) #always the minimum value\n",
    "\n",
    "while len(minHeap):\n",
    "    print(heapq.heappop(minHeap)) #pop out the heap from top\n",
    "\n",
    "print(\"ARR_TO_HEAP!!!!\")\n",
    "arr_to_heap = [2, 1, 8, 4, 5]\n",
    "heapq.heapify(arr_to_heap)\n",
    "while(arr_to_heap):\n",
    "    print(heapq.heappop(arr_to_heap))\n",
    "\n",
    "print(\"maxHEAP!!!\")\n",
    "#python doesn't have maxheap so we times -1 for both input and output\n",
    "maxHeap = []\n",
    "for i in range(5):\n",
    "    heapq.heappush(maxHeap,i * -1)\n",
    "\n",
    "print(maxHeap) #it's like a tree so we need to use pop to print it in order\n",
    "for i in range(5):\n",
    "    print(heapq.heappop(maxHeap) * -1)\n"
   ]
  },
  {
   "cell_type": "code",
   "execution_count": 51,
   "metadata": {},
   "outputs": [
    {
     "name": "stdout",
     "output_type": "stream",
     "text": [
      "abc\n"
     ]
    }
   ],
   "source": [
    "# INNER FUNCTION\n",
    "def outer(a,b):\n",
    "    c = \"c\"\n",
    "\n",
    "    def inner():\n",
    "        return a + b + c\n",
    "    \n",
    "    return inner()\n",
    "\n",
    "print(outer(\"a\", \"b\"))"
   ]
  },
  {
   "cell_type": "markdown",
   "metadata": {},
   "source": [
    "# String"
   ]
  },
  {
   "cell_type": "code",
   "execution_count": 93,
   "metadata": {},
   "outputs": [
    {
     "name": "stdout",
     "output_type": "stream",
     "text": [
      "GEEKS FOR GEEKS\n",
      "geeks for geeks\n",
      "Geeks For Geeks\n",
      "GEEkS fOR gEeKS\n",
      "Geeks for geeks\n",
      "geeKs For GeEks1111\n",
      "12222\n",
      "String ends with 's': True\n",
      "The first 'e' apears at: 1\n",
      "The first 'eKs' apears at: 2\n",
      "The string is alphanumeric: False\n",
      "geeKs For GeEks\n",
      "Ks For GeEks\n",
      "g_e_e_K_s_ _F_o_r_ _G_e_E_k_s\n",
      "['g', 'e', 'e', 'K', 's', ' ', 'F', 'o', 'r', ' ', 'G', 'e', 'E', 'k', 's']\n"
     ]
    }
   ],
   "source": [
    "text = \"geeKs For GeEks\"\n",
    "\n",
    "print(text.upper())\n",
    "print(text.lower())\n",
    "print(text.title())\n",
    "print(text.swapcase())\n",
    "print(text.capitalize())\n",
    "print(text + str(1111))\n",
    "print(int(str(11111)) + 1111)\n",
    "\n",
    "print(f\"String ends with 's': {text.endswith('s')}\")\n",
    "print(f\"The first 'e' apears at: {text.index('e')}\" )\n",
    "print(f\"The first 'eKs' apears at: {text.find('eKs')}\" )\n",
    "print(f\"The string is alphanumeric: {text.isalnum()}\")\n",
    "#islower() isalpha() isdecimal() isdigit() isnumeric()\n",
    "print(text.lstrip()) #remove left space\n",
    "print(text.lstrip(\"ge\")) #remove the leading gs and es\n",
    "\n",
    "text2 = \"_\".join(text)\n",
    "print(text2)\n",
    "print(text2.split('_'))\n",
    "\n"
   ]
  },
  {
   "cell_type": "code",
   "execution_count": 54,
   "metadata": {},
   "outputs": [
    {
     "name": "stdout",
     "output_type": "stream",
     "text": [
      "2023-10-01 12:00:00 192.168.1.1 /home\n",
      "['2023-10-01', '12:00:00', '192.168.1.1', '/home']\n"
     ]
    }
   ],
   "source": [
    "s = \"  2023-10-01 12:00:00 192.168.1.1 /home \"\n",
    "s = s.strip() # remove space front and back\n",
    "print(s)\n",
    "s = s.split() #sepeate by space\n",
    "print(s)"
   ]
  },
  {
   "cell_type": "code",
   "execution_count": 59,
   "metadata": {},
   "outputs": [
    {
     "name": "stdout",
     "output_type": "stream",
     "text": [
      "12:00:00\n",
      "12:01:00\n",
      "12:02:00\n",
      "12:03:00\n",
      "12:04:00\n",
      "12:05:00\n"
     ]
    },
    {
     "data": {
      "text/plain": [
       "{'192.168.1.1': 3, '192.168.1.2': 2, '192.168.1.3': 1}"
      ]
     },
     "execution_count": 59,
     "metadata": {},
     "output_type": "execute_result"
    }
   ],
   "source": [
    "def count_requests(log_file_path):\n",
    "    request_count = {}\n",
    "\n",
    "    try: \n",
    "        with open(log_file_path, 'r') as f:\n",
    "            for line in f:\n",
    "                parts = line.strip().split()\n",
    "                if(len(parts) < 3):\n",
    "                    continue\n",
    "                date, timestamp, ip, url = parts[0], parts[1], parts[2], parts[3]\n",
    "                print(timestamp)\n",
    "                request_count[ip] = request_count.get(ip, 0) + 1\n",
    "    except FileNotFoundError:\n",
    "        print(f\"Error: The file {log_file_path} does not exist.\" )\n",
    "    except Exception as e:\n",
    "        print(f\"An error has occured: {e}\")\n",
    "    \n",
    "    return request_count\n",
    "\n",
    "count_requests(\"./log.txt\")\n",
    "\n",
    "\n",
    "'''\n",
    "1. use try and except (error handling)\n",
    "2. try not to use hardcoding\n",
    "\n",
    "'''\n",
    "\n",
    "                \n"
   ]
  },
  {
   "cell_type": "markdown",
   "metadata": {},
   "source": [
    "# Dict"
   ]
  },
  {
   "cell_type": "code",
   "execution_count": 95,
   "metadata": {},
   "outputs": [
    {
     "name": "stdout",
     "output_type": "stream",
     "text": [
      "{'one': 1, 'two': 3, 'three': 3}\n",
      "updated dict2 is {'one': 1, 'two': 3, 'three': 3}\n"
     ]
    }
   ],
   "source": [
    "dict1 = {\"one\": 1, \"two\" : 3, \"three\" : 3}\n",
    "dict2 = dict1.copy()\n",
    "print(dict2)\n",
    "dict1[\"two\"] = 2\n",
    "print(f\"updated dict1 does not affect dict2: {dict2}\")\n"
   ]
  },
  {
   "cell_type": "markdown",
   "metadata": {},
   "source": [
    "# Class Attribute vs Instance Attribute"
   ]
  },
  {
   "cell_type": "code",
   "execution_count": 62,
   "metadata": {},
   "outputs": [
    {
     "name": "stdout",
     "output_type": "stream",
     "text": [
      "whoa\n",
      "meow\n",
      "2\n",
      "3\n"
     ]
    }
   ],
   "source": [
    "class animal:\n",
    "    animal_count = 0\n",
    "\n",
    "    def __init__(self, _type, _leg, _voice):\n",
    "        self.type = _type\n",
    "        self.leg = _leg\n",
    "        self.voice = _voice\n",
    "        animal.animal_count += 1 #class level, shared, 记得加class.\n",
    "    \n",
    "    def howl(self):\n",
    "        print(self.voice)\n",
    "\n",
    "\n",
    "tiger = animal(\"tiger\", 4, \"whoa\")\n",
    "cat = animal(\"cat\", 4, \"meow\")\n",
    "\n",
    "tiger.howl()\n",
    "cat.howl()\n",
    "print(tiger.animal_count)\n",
    "\n",
    "dog = animal(\"dog\", 4, \"wuf\")\n",
    "print(tiger.animal_count)"
   ]
  }
 ],
 "metadata": {
  "kernelspec": {
   "display_name": ".venv",
   "language": "python",
   "name": "python3"
  },
  "language_info": {
   "codemirror_mode": {
    "name": "ipython",
    "version": 3
   },
   "file_extension": ".py",
   "mimetype": "text/x-python",
   "name": "python",
   "nbconvert_exporter": "python",
   "pygments_lexer": "ipython3",
   "version": "3.13.0"
  }
 },
 "nbformat": 4,
 "nbformat_minor": 2
}
